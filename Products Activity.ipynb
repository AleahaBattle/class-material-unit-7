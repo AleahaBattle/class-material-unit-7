{
 "cells": [
  {
   "cell_type": "markdown",
   "metadata": {},
   "source": [
    "# Products activity\n",
    "\n",
    "For this activity, we'll practice list comprehensions to work with a [CSV file](https://github.com/rmotr-curriculum/class-material-unit-7/blob/master/products_short.csv) containing products:\n",
    "\n",
    "[![image](https://user-images.githubusercontent.com/872296/37612408-ed06b694-2b83-11e8-9882-7c97340bd8b3.png)](https://github.com/rmotr-curriculum/class-material-unit-7/blob/master/products_short.csv)\n",
    "\n",
    "The first step is to read the CSV file using Python's `csv` module (more info next class 😉)."
   ]
  },
  {
   "cell_type": "code",
   "execution_count": 30,
   "metadata": {},
   "outputs": [],
   "source": [
    "import csv\n",
    "from datetime import datetime"
   ]
  },
  {
   "cell_type": "code",
   "execution_count": 31,
   "metadata": {},
   "outputs": [],
   "source": [
    "with open('products_short.csv', 'r') as fp:\n",
    "    reader = csv.reader(fp)\n",
    "    products = [l for l in reader]\n",
    "    # print(products)"
   ]
  },
  {
   "cell_type": "markdown",
   "metadata": {},
   "source": [
    "An example of a product line:"
   ]
  },
  {
   "cell_type": "code",
   "execution_count": 32,
   "metadata": {},
   "outputs": [
    {
     "data": {
      "text/plain": [
       "['536365',\n",
       " '85123A',\n",
       " 'WHITE HANGING HEART T-LIGHT HOLDER',\n",
       " '6',\n",
       " '12/1/10 08:26',\n",
       " '2.55',\n",
       " '17850',\n",
       " 'United Kingdom']"
      ]
     },
     "execution_count": 32,
     "metadata": {},
     "output_type": "execute_result"
    }
   ],
   "source": [
    "products[0]"
   ]
  },
  {
   "cell_type": "markdown",
   "metadata": {},
   "source": [
    "### Warming up: Invoice Numbers as IDs\n",
    "\n",
    "Write a list comprehension to extract all the Invoice Numbers and transform them to integers:"
   ]
  },
  {
   "cell_type": "code",
   "execution_count": 33,
   "metadata": {},
   "outputs": [
    {
     "data": {
      "text/plain": [
       "[536365,\n",
       " 536365,\n",
       " 536365,\n",
       " 536365,\n",
       " 536365,\n",
       " 536365,\n",
       " 536365,\n",
       " 536366,\n",
       " 536366,\n",
       " 536367]"
      ]
     },
     "execution_count": 33,
     "metadata": {},
     "output_type": "execute_result"
    }
   ],
   "source": [
    "[int(p[0]) for p in products]"
   ]
  },
  {
   "cell_type": "code",
   "execution_count": null,
   "metadata": {},
   "outputs": [],
   "source": []
  },
  {
   "cell_type": "code",
   "execution_count": null,
   "metadata": {},
   "outputs": [],
   "source": []
  },
  {
   "cell_type": "markdown",
   "metadata": {},
   "source": [
    "### Expressing products as dictionaries"
   ]
  },
  {
   "cell_type": "markdown",
   "metadata": {},
   "source": [
    "Transform each product, that currently looks like this:\n",
    "\n",
    "```python\n",
    "[\n",
    "    '536365',                              # Invoice ID\n",
    "    '85123A',                              # Stock code\n",
    "    'WHITE HANGING HEART T-LIGHT HOLDER',  # Description\n",
    "    '6',                                   # Quantity\n",
    "    '12/1/10 08:26',                       # Invoice Date\n",
    "    '2.55',                                # Price\n",
    "    '17850',                               # Customer ID\n",
    "    'United Kingdom'                       # Country\n",
    "]\n",
    "```\n",
    "\n",
    "Into this:\n",
    "\n",
    "```python\n",
    "{\n",
    "    '_invoice_id': '536365',\n",
    "    'stock_code': '85123A',\n",
    "    'description': 'WHITE HANGING HEART T-LIGHT HOLDER',\n",
    "    '_quantity': '6',\n",
    "    '_invoice_date': '12/1/10 08:26',\n",
    "    '_price': '2.55',\n",
    "    '_customer_id': '17850',\n",
    "    'country': 'United Kingdom'\n",
    "} \n",
    "```\n",
    "\n",
    "_(All the fields starting with an underscore will be eventually transformed)_"
   ]
  },
  {
   "cell_type": "code",
   "execution_count": 34,
   "metadata": {},
   "outputs": [],
   "source": [
    "_products = products"
   ]
  },
  {
   "cell_type": "code",
   "execution_count": 35,
   "metadata": {},
   "outputs": [],
   "source": [
    "products = [{\n",
    "    '_invoice_id': p[0],\n",
    "    'stock_code': p[1],\n",
    "    'description': p[2],\n",
    "    '_quantity': p[3],\n",
    "    '_invoice_date': p[4],\n",
    "    '_price': p[5],\n",
    "    '_customer_id': p[6],\n",
    "    'country': p[7]\n",
    "} for p in _products]"
   ]
  },
  {
   "cell_type": "code",
   "execution_count": 36,
   "metadata": {},
   "outputs": [
    {
     "data": {
      "text/plain": [
       "[{'_invoice_id': '536365',\n",
       "  'stock_code': '85123A',\n",
       "  'description': 'WHITE HANGING HEART T-LIGHT HOLDER',\n",
       "  '_quantity': '6',\n",
       "  '_invoice_date': '12/1/10 08:26',\n",
       "  '_price': '2.55',\n",
       "  '_customer_id': '17850',\n",
       "  'country': 'United Kingdom'},\n",
       " {'_invoice_id': '536365',\n",
       "  'stock_code': '71053',\n",
       "  'description': 'WHITE METAL LANTERN',\n",
       "  '_quantity': '6',\n",
       "  '_invoice_date': '12/1/10 08:26',\n",
       "  '_price': '3.39',\n",
       "  '_customer_id': '17850',\n",
       "  'country': 'France'},\n",
       " {'_invoice_id': '536365',\n",
       "  'stock_code': '84406B',\n",
       "  'description': 'CREAM CUPID HEARTS COAT HANGER',\n",
       "  '_quantity': '8',\n",
       "  '_invoice_date': '12/1/10 08:26',\n",
       "  '_price': '2.75',\n",
       "  '_customer_id': '17850',\n",
       "  'country': 'United Kingdom'},\n",
       " {'_invoice_id': '536365',\n",
       "  'stock_code': '84029G',\n",
       "  'description': 'KNITTED UNION FLAG HOT WATER BOTTLE',\n",
       "  '_quantity': '6',\n",
       "  '_invoice_date': '12/1/10 08:26',\n",
       "  '_price': '3.39',\n",
       "  '_customer_id': '17850',\n",
       "  'country': 'United Kingdom'},\n",
       " {'_invoice_id': '536365',\n",
       "  'stock_code': '84029E',\n",
       "  'description': 'RED WOOLLY HOTTIE WHITE HEART.',\n",
       "  '_quantity': '6',\n",
       "  '_invoice_date': '12/1/10 08:26',\n",
       "  '_price': '3.39',\n",
       "  '_customer_id': '17850',\n",
       "  'country': 'United Kingdom'},\n",
       " {'_invoice_id': '536365',\n",
       "  'stock_code': '22752',\n",
       "  'description': 'SET 7 BABUSHKA NESTING BOXES',\n",
       "  '_quantity': '2',\n",
       "  '_invoice_date': '12/1/10 08:26',\n",
       "  '_price': '7.65',\n",
       "  '_customer_id': '17850',\n",
       "  'country': 'United Kingdom'},\n",
       " {'_invoice_id': '536365',\n",
       "  'stock_code': '21730',\n",
       "  'description': 'GLASS STAR FROSTED T-LIGHT HOLDER',\n",
       "  '_quantity': '6',\n",
       "  '_invoice_date': '12/1/10 08:26',\n",
       "  '_price': '4.25',\n",
       "  '_customer_id': '17850',\n",
       "  'country': 'Germany'},\n",
       " {'_invoice_id': '536366',\n",
       "  'stock_code': '22633',\n",
       "  'description': 'HAND WARMER UNION JACK',\n",
       "  '_quantity': '6',\n",
       "  '_invoice_date': '12/1/10 08:28',\n",
       "  '_price': '1.85',\n",
       "  '_customer_id': '17850',\n",
       "  'country': 'United Kingdom'},\n",
       " {'_invoice_id': '536366',\n",
       "  'stock_code': '22632',\n",
       "  'description': 'HAND WARMER RED POLKA DOT',\n",
       "  '_quantity': '6',\n",
       "  '_invoice_date': '12/1/10 08:28',\n",
       "  '_price': '1.85',\n",
       "  '_customer_id': '17850',\n",
       "  'country': 'United Kingdom'},\n",
       " {'_invoice_id': '536367',\n",
       "  'stock_code': '84879',\n",
       "  'description': 'ASSORTED COLOUR BIRD ORNAMENT',\n",
       "  '_quantity': '32',\n",
       "  '_invoice_date': '12/1/10 08:34',\n",
       "  '_price': '1.69',\n",
       "  '_customer_id': '13047',\n",
       "  'country': 'United Kingdom'}]"
      ]
     },
     "execution_count": 36,
     "metadata": {},
     "output_type": "execute_result"
    }
   ],
   "source": [
    "products"
   ]
  },
  {
   "cell_type": "markdown",
   "metadata": {},
   "source": [
    "### Update Invoice Number as Integer\n",
    "Now that the product is a dictionary, we can add an `invoice_id` key with the integer value of the Invoice ID. Example, given a single product:"
   ]
  },
  {
   "cell_type": "code",
   "execution_count": 37,
   "metadata": {},
   "outputs": [],
   "source": [
    "prod = {\n",
    "    '_customer_id': '17850',\n",
    "    '_invoice_date': '12/1/10 08:26',\n",
    "    '_invoice_id': '536365',\n",
    "    '_price': '2.55',\n",
    "    '_quantity': '6',\n",
    "    'country': 'United Kingdom',\n",
    "    'description': 'WHITE HANGING HEART T-LIGHT HOLDER',\n",
    "    'stock_code': '85123A'\n",
    "}"
   ]
  },
  {
   "cell_type": "markdown",
   "metadata": {},
   "source": [
    "How can you add (within an expression) the key `invoice_id` transforming `_invoice_id` into an int?"
   ]
  },
  {
   "cell_type": "code",
   "execution_count": 38,
   "metadata": {},
   "outputs": [],
   "source": [
    "prod.update({'inovice_id': int(prod['_invoice_id'])})"
   ]
  },
  {
   "cell_type": "code",
   "execution_count": 39,
   "metadata": {},
   "outputs": [
    {
     "data": {
      "text/plain": [
       "{'_customer_id': '17850',\n",
       " '_invoice_date': '12/1/10 08:26',\n",
       " '_invoice_id': '536365',\n",
       " '_price': '2.55',\n",
       " '_quantity': '6',\n",
       " 'country': 'United Kingdom',\n",
       " 'description': 'WHITE HANGING HEART T-LIGHT HOLDER',\n",
       " 'stock_code': '85123A',\n",
       " 'inovice_id': 536365}"
      ]
     },
     "execution_count": 39,
     "metadata": {},
     "output_type": "execute_result"
    }
   ],
   "source": [
    "prod"
   ]
  },
  {
   "cell_type": "code",
   "execution_count": 40,
   "metadata": {},
   "outputs": [
    {
     "data": {
      "text/plain": [
       "[None, None, None, None, None, None, None, None, None, None]"
      ]
     },
     "execution_count": 40,
     "metadata": {},
     "output_type": "execute_result"
    }
   ],
   "source": [
    "[p.update({'inovice_id': int(prod['_invoice_id'])}) for p in products]"
   ]
  },
  {
   "cell_type": "code",
   "execution_count": 41,
   "metadata": {},
   "outputs": [
    {
     "data": {
      "text/plain": [
       "[{'_invoice_id': '536365',\n",
       "  'stock_code': '85123A',\n",
       "  'description': 'WHITE HANGING HEART T-LIGHT HOLDER',\n",
       "  '_quantity': '6',\n",
       "  '_invoice_date': '12/1/10 08:26',\n",
       "  '_price': '2.55',\n",
       "  '_customer_id': '17850',\n",
       "  'country': 'United Kingdom',\n",
       "  'inovice_id': 536365},\n",
       " {'_invoice_id': '536365',\n",
       "  'stock_code': '71053',\n",
       "  'description': 'WHITE METAL LANTERN',\n",
       "  '_quantity': '6',\n",
       "  '_invoice_date': '12/1/10 08:26',\n",
       "  '_price': '3.39',\n",
       "  '_customer_id': '17850',\n",
       "  'country': 'France',\n",
       "  'inovice_id': 536365},\n",
       " {'_invoice_id': '536365',\n",
       "  'stock_code': '84406B',\n",
       "  'description': 'CREAM CUPID HEARTS COAT HANGER',\n",
       "  '_quantity': '8',\n",
       "  '_invoice_date': '12/1/10 08:26',\n",
       "  '_price': '2.75',\n",
       "  '_customer_id': '17850',\n",
       "  'country': 'United Kingdom',\n",
       "  'inovice_id': 536365},\n",
       " {'_invoice_id': '536365',\n",
       "  'stock_code': '84029G',\n",
       "  'description': 'KNITTED UNION FLAG HOT WATER BOTTLE',\n",
       "  '_quantity': '6',\n",
       "  '_invoice_date': '12/1/10 08:26',\n",
       "  '_price': '3.39',\n",
       "  '_customer_id': '17850',\n",
       "  'country': 'United Kingdom',\n",
       "  'inovice_id': 536365},\n",
       " {'_invoice_id': '536365',\n",
       "  'stock_code': '84029E',\n",
       "  'description': 'RED WOOLLY HOTTIE WHITE HEART.',\n",
       "  '_quantity': '6',\n",
       "  '_invoice_date': '12/1/10 08:26',\n",
       "  '_price': '3.39',\n",
       "  '_customer_id': '17850',\n",
       "  'country': 'United Kingdom',\n",
       "  'inovice_id': 536365},\n",
       " {'_invoice_id': '536365',\n",
       "  'stock_code': '22752',\n",
       "  'description': 'SET 7 BABUSHKA NESTING BOXES',\n",
       "  '_quantity': '2',\n",
       "  '_invoice_date': '12/1/10 08:26',\n",
       "  '_price': '7.65',\n",
       "  '_customer_id': '17850',\n",
       "  'country': 'United Kingdom',\n",
       "  'inovice_id': 536365},\n",
       " {'_invoice_id': '536365',\n",
       "  'stock_code': '21730',\n",
       "  'description': 'GLASS STAR FROSTED T-LIGHT HOLDER',\n",
       "  '_quantity': '6',\n",
       "  '_invoice_date': '12/1/10 08:26',\n",
       "  '_price': '4.25',\n",
       "  '_customer_id': '17850',\n",
       "  'country': 'Germany',\n",
       "  'inovice_id': 536365},\n",
       " {'_invoice_id': '536366',\n",
       "  'stock_code': '22633',\n",
       "  'description': 'HAND WARMER UNION JACK',\n",
       "  '_quantity': '6',\n",
       "  '_invoice_date': '12/1/10 08:28',\n",
       "  '_price': '1.85',\n",
       "  '_customer_id': '17850',\n",
       "  'country': 'United Kingdom',\n",
       "  'inovice_id': 536365},\n",
       " {'_invoice_id': '536366',\n",
       "  'stock_code': '22632',\n",
       "  'description': 'HAND WARMER RED POLKA DOT',\n",
       "  '_quantity': '6',\n",
       "  '_invoice_date': '12/1/10 08:28',\n",
       "  '_price': '1.85',\n",
       "  '_customer_id': '17850',\n",
       "  'country': 'United Kingdom',\n",
       "  'inovice_id': 536365},\n",
       " {'_invoice_id': '536367',\n",
       "  'stock_code': '84879',\n",
       "  'description': 'ASSORTED COLOUR BIRD ORNAMENT',\n",
       "  '_quantity': '32',\n",
       "  '_invoice_date': '12/1/10 08:34',\n",
       "  '_price': '1.69',\n",
       "  '_customer_id': '13047',\n",
       "  'country': 'United Kingdom',\n",
       "  'inovice_id': 536365}]"
      ]
     },
     "execution_count": 41,
     "metadata": {},
     "output_type": "execute_result"
    }
   ],
   "source": [
    "products"
   ]
  },
  {
   "cell_type": "markdown",
   "metadata": {},
   "source": [
    "### Parse Dates into datetime objects\n",
    "\n",
    "Parse the Invoice Date with the `datetime.strptime` function to include a Python datetime within each product. Start by practicing with only one product:"
   ]
  },
  {
   "cell_type": "code",
   "execution_count": 42,
   "metadata": {},
   "outputs": [
    {
     "data": {
      "text/plain": [
       "{'_invoice_id': '536365',\n",
       " 'stock_code': '85123A',\n",
       " 'description': 'WHITE HANGING HEART T-LIGHT HOLDER',\n",
       " '_quantity': '6',\n",
       " '_invoice_date': '12/1/10 08:26',\n",
       " '_price': '2.55',\n",
       " '_customer_id': '17850',\n",
       " 'country': 'United Kingdom',\n",
       " 'inovice_id': 536365}"
      ]
     },
     "execution_count": 42,
     "metadata": {},
     "output_type": "execute_result"
    }
   ],
   "source": [
    "prod = products[0]\n",
    "prod"
   ]
  },
  {
   "cell_type": "code",
   "execution_count": 43,
   "metadata": {},
   "outputs": [
    {
     "data": {
      "text/plain": [
       "datetime.datetime(2010, 12, 1, 8, 26)"
      ]
     },
     "execution_count": 43,
     "metadata": {},
     "output_type": "execute_result"
    }
   ],
   "source": [
    "datetime.strptime(prod['_invoice_date'], '%m/%d/%y %H:%M')"
   ]
  },
  {
   "cell_type": "code",
   "execution_count": 44,
   "metadata": {},
   "outputs": [
    {
     "data": {
      "text/plain": [
       "[None, None, None, None, None, None, None, None, None, None]"
      ]
     },
     "execution_count": 44,
     "metadata": {},
     "output_type": "execute_result"
    }
   ],
   "source": [
    "[p.update({\n",
    "    'invoice_date': datetime.strptime(p['_invoice_date'], '%m/%d/%y %H:%M')\n",
    "}) for p in products]"
   ]
  },
  {
   "cell_type": "code",
   "execution_count": 45,
   "metadata": {},
   "outputs": [
    {
     "data": {
      "text/plain": [
       "[{'_invoice_id': '536365',\n",
       "  'stock_code': '85123A',\n",
       "  'description': 'WHITE HANGING HEART T-LIGHT HOLDER',\n",
       "  '_quantity': '6',\n",
       "  '_invoice_date': '12/1/10 08:26',\n",
       "  '_price': '2.55',\n",
       "  '_customer_id': '17850',\n",
       "  'country': 'United Kingdom',\n",
       "  'inovice_id': 536365,\n",
       "  'invoice_date': datetime.datetime(2010, 12, 1, 8, 26)},\n",
       " {'_invoice_id': '536365',\n",
       "  'stock_code': '71053',\n",
       "  'description': 'WHITE METAL LANTERN',\n",
       "  '_quantity': '6',\n",
       "  '_invoice_date': '12/1/10 08:26',\n",
       "  '_price': '3.39',\n",
       "  '_customer_id': '17850',\n",
       "  'country': 'France',\n",
       "  'inovice_id': 536365,\n",
       "  'invoice_date': datetime.datetime(2010, 12, 1, 8, 26)},\n",
       " {'_invoice_id': '536365',\n",
       "  'stock_code': '84406B',\n",
       "  'description': 'CREAM CUPID HEARTS COAT HANGER',\n",
       "  '_quantity': '8',\n",
       "  '_invoice_date': '12/1/10 08:26',\n",
       "  '_price': '2.75',\n",
       "  '_customer_id': '17850',\n",
       "  'country': 'United Kingdom',\n",
       "  'inovice_id': 536365,\n",
       "  'invoice_date': datetime.datetime(2010, 12, 1, 8, 26)},\n",
       " {'_invoice_id': '536365',\n",
       "  'stock_code': '84029G',\n",
       "  'description': 'KNITTED UNION FLAG HOT WATER BOTTLE',\n",
       "  '_quantity': '6',\n",
       "  '_invoice_date': '12/1/10 08:26',\n",
       "  '_price': '3.39',\n",
       "  '_customer_id': '17850',\n",
       "  'country': 'United Kingdom',\n",
       "  'inovice_id': 536365,\n",
       "  'invoice_date': datetime.datetime(2010, 12, 1, 8, 26)},\n",
       " {'_invoice_id': '536365',\n",
       "  'stock_code': '84029E',\n",
       "  'description': 'RED WOOLLY HOTTIE WHITE HEART.',\n",
       "  '_quantity': '6',\n",
       "  '_invoice_date': '12/1/10 08:26',\n",
       "  '_price': '3.39',\n",
       "  '_customer_id': '17850',\n",
       "  'country': 'United Kingdom',\n",
       "  'inovice_id': 536365,\n",
       "  'invoice_date': datetime.datetime(2010, 12, 1, 8, 26)},\n",
       " {'_invoice_id': '536365',\n",
       "  'stock_code': '22752',\n",
       "  'description': 'SET 7 BABUSHKA NESTING BOXES',\n",
       "  '_quantity': '2',\n",
       "  '_invoice_date': '12/1/10 08:26',\n",
       "  '_price': '7.65',\n",
       "  '_customer_id': '17850',\n",
       "  'country': 'United Kingdom',\n",
       "  'inovice_id': 536365,\n",
       "  'invoice_date': datetime.datetime(2010, 12, 1, 8, 26)},\n",
       " {'_invoice_id': '536365',\n",
       "  'stock_code': '21730',\n",
       "  'description': 'GLASS STAR FROSTED T-LIGHT HOLDER',\n",
       "  '_quantity': '6',\n",
       "  '_invoice_date': '12/1/10 08:26',\n",
       "  '_price': '4.25',\n",
       "  '_customer_id': '17850',\n",
       "  'country': 'Germany',\n",
       "  'inovice_id': 536365,\n",
       "  'invoice_date': datetime.datetime(2010, 12, 1, 8, 26)},\n",
       " {'_invoice_id': '536366',\n",
       "  'stock_code': '22633',\n",
       "  'description': 'HAND WARMER UNION JACK',\n",
       "  '_quantity': '6',\n",
       "  '_invoice_date': '12/1/10 08:28',\n",
       "  '_price': '1.85',\n",
       "  '_customer_id': '17850',\n",
       "  'country': 'United Kingdom',\n",
       "  'inovice_id': 536365,\n",
       "  'invoice_date': datetime.datetime(2010, 12, 1, 8, 28)},\n",
       " {'_invoice_id': '536366',\n",
       "  'stock_code': '22632',\n",
       "  'description': 'HAND WARMER RED POLKA DOT',\n",
       "  '_quantity': '6',\n",
       "  '_invoice_date': '12/1/10 08:28',\n",
       "  '_price': '1.85',\n",
       "  '_customer_id': '17850',\n",
       "  'country': 'United Kingdom',\n",
       "  'inovice_id': 536365,\n",
       "  'invoice_date': datetime.datetime(2010, 12, 1, 8, 28)},\n",
       " {'_invoice_id': '536367',\n",
       "  'stock_code': '84879',\n",
       "  'description': 'ASSORTED COLOUR BIRD ORNAMENT',\n",
       "  '_quantity': '32',\n",
       "  '_invoice_date': '12/1/10 08:34',\n",
       "  '_price': '1.69',\n",
       "  '_customer_id': '13047',\n",
       "  'country': 'United Kingdom',\n",
       "  'inovice_id': 536365,\n",
       "  'invoice_date': datetime.datetime(2010, 12, 1, 8, 34)}]"
      ]
     },
     "execution_count": 45,
     "metadata": {},
     "output_type": "execute_result"
    }
   ],
   "source": [
    "products"
   ]
  },
  {
   "cell_type": "markdown",
   "metadata": {},
   "source": [
    "### Exploring Countries\n",
    "\n",
    "Can you tell how many countries appear as source of products? Create a unique collection with all the countries found in the CSV:"
   ]
  },
  {
   "cell_type": "code",
   "execution_count": 46,
   "metadata": {},
   "outputs": [
    {
     "data": {
      "text/plain": [
       "{'France', 'Germany', 'United Kingdom'}"
      ]
     },
     "execution_count": 46,
     "metadata": {},
     "output_type": "execute_result"
    }
   ],
   "source": [
    "set([p['country'] for p in products])"
   ]
  },
  {
   "cell_type": "code",
   "execution_count": null,
   "metadata": {},
   "outputs": [],
   "source": []
  },
  {
   "cell_type": "code",
   "execution_count": null,
   "metadata": {},
   "outputs": [],
   "source": []
  },
  {
   "cell_type": "markdown",
   "metadata": {},
   "source": [
    "### Parse price and quantity into a valid numeric formats \n",
    "\n",
    "Similar to what we did with the InvoiceID, parse `_price` and `_quantity` as numeric values and store them under the `price` and `quantity` keys. What would be a good data type to store the price?:"
   ]
  },
  {
   "cell_type": "code",
   "execution_count": 47,
   "metadata": {},
   "outputs": [
    {
     "data": {
      "text/plain": [
       "[None, None, None, None, None, None, None, None, None, None]"
      ]
     },
     "execution_count": 47,
     "metadata": {},
     "output_type": "execute_result"
    }
   ],
   "source": [
    "from decimal import Decimal\n",
    "\n",
    "[p.update({\n",
    "    'quantity': int(p['_quantity']),\n",
    "    'price': Decimal(p['_price'])\n",
    "}) for p in products]"
   ]
  },
  {
   "cell_type": "code",
   "execution_count": 48,
   "metadata": {},
   "outputs": [
    {
     "data": {
      "text/plain": [
       "[{'_invoice_id': '536365',\n",
       "  'stock_code': '85123A',\n",
       "  'description': 'WHITE HANGING HEART T-LIGHT HOLDER',\n",
       "  '_quantity': '6',\n",
       "  '_invoice_date': '12/1/10 08:26',\n",
       "  '_price': '2.55',\n",
       "  '_customer_id': '17850',\n",
       "  'country': 'United Kingdom',\n",
       "  'inovice_id': 536365,\n",
       "  'invoice_date': datetime.datetime(2010, 12, 1, 8, 26),\n",
       "  'quantity': 6,\n",
       "  'price': Decimal('2.55')},\n",
       " {'_invoice_id': '536365',\n",
       "  'stock_code': '71053',\n",
       "  'description': 'WHITE METAL LANTERN',\n",
       "  '_quantity': '6',\n",
       "  '_invoice_date': '12/1/10 08:26',\n",
       "  '_price': '3.39',\n",
       "  '_customer_id': '17850',\n",
       "  'country': 'France',\n",
       "  'inovice_id': 536365,\n",
       "  'invoice_date': datetime.datetime(2010, 12, 1, 8, 26),\n",
       "  'quantity': 6,\n",
       "  'price': Decimal('3.39')},\n",
       " {'_invoice_id': '536365',\n",
       "  'stock_code': '84406B',\n",
       "  'description': 'CREAM CUPID HEARTS COAT HANGER',\n",
       "  '_quantity': '8',\n",
       "  '_invoice_date': '12/1/10 08:26',\n",
       "  '_price': '2.75',\n",
       "  '_customer_id': '17850',\n",
       "  'country': 'United Kingdom',\n",
       "  'inovice_id': 536365,\n",
       "  'invoice_date': datetime.datetime(2010, 12, 1, 8, 26),\n",
       "  'quantity': 8,\n",
       "  'price': Decimal('2.75')},\n",
       " {'_invoice_id': '536365',\n",
       "  'stock_code': '84029G',\n",
       "  'description': 'KNITTED UNION FLAG HOT WATER BOTTLE',\n",
       "  '_quantity': '6',\n",
       "  '_invoice_date': '12/1/10 08:26',\n",
       "  '_price': '3.39',\n",
       "  '_customer_id': '17850',\n",
       "  'country': 'United Kingdom',\n",
       "  'inovice_id': 536365,\n",
       "  'invoice_date': datetime.datetime(2010, 12, 1, 8, 26),\n",
       "  'quantity': 6,\n",
       "  'price': Decimal('3.39')},\n",
       " {'_invoice_id': '536365',\n",
       "  'stock_code': '84029E',\n",
       "  'description': 'RED WOOLLY HOTTIE WHITE HEART.',\n",
       "  '_quantity': '6',\n",
       "  '_invoice_date': '12/1/10 08:26',\n",
       "  '_price': '3.39',\n",
       "  '_customer_id': '17850',\n",
       "  'country': 'United Kingdom',\n",
       "  'inovice_id': 536365,\n",
       "  'invoice_date': datetime.datetime(2010, 12, 1, 8, 26),\n",
       "  'quantity': 6,\n",
       "  'price': Decimal('3.39')},\n",
       " {'_invoice_id': '536365',\n",
       "  'stock_code': '22752',\n",
       "  'description': 'SET 7 BABUSHKA NESTING BOXES',\n",
       "  '_quantity': '2',\n",
       "  '_invoice_date': '12/1/10 08:26',\n",
       "  '_price': '7.65',\n",
       "  '_customer_id': '17850',\n",
       "  'country': 'United Kingdom',\n",
       "  'inovice_id': 536365,\n",
       "  'invoice_date': datetime.datetime(2010, 12, 1, 8, 26),\n",
       "  'quantity': 2,\n",
       "  'price': Decimal('7.65')},\n",
       " {'_invoice_id': '536365',\n",
       "  'stock_code': '21730',\n",
       "  'description': 'GLASS STAR FROSTED T-LIGHT HOLDER',\n",
       "  '_quantity': '6',\n",
       "  '_invoice_date': '12/1/10 08:26',\n",
       "  '_price': '4.25',\n",
       "  '_customer_id': '17850',\n",
       "  'country': 'Germany',\n",
       "  'inovice_id': 536365,\n",
       "  'invoice_date': datetime.datetime(2010, 12, 1, 8, 26),\n",
       "  'quantity': 6,\n",
       "  'price': Decimal('4.25')},\n",
       " {'_invoice_id': '536366',\n",
       "  'stock_code': '22633',\n",
       "  'description': 'HAND WARMER UNION JACK',\n",
       "  '_quantity': '6',\n",
       "  '_invoice_date': '12/1/10 08:28',\n",
       "  '_price': '1.85',\n",
       "  '_customer_id': '17850',\n",
       "  'country': 'United Kingdom',\n",
       "  'inovice_id': 536365,\n",
       "  'invoice_date': datetime.datetime(2010, 12, 1, 8, 28),\n",
       "  'quantity': 6,\n",
       "  'price': Decimal('1.85')},\n",
       " {'_invoice_id': '536366',\n",
       "  'stock_code': '22632',\n",
       "  'description': 'HAND WARMER RED POLKA DOT',\n",
       "  '_quantity': '6',\n",
       "  '_invoice_date': '12/1/10 08:28',\n",
       "  '_price': '1.85',\n",
       "  '_customer_id': '17850',\n",
       "  'country': 'United Kingdom',\n",
       "  'inovice_id': 536365,\n",
       "  'invoice_date': datetime.datetime(2010, 12, 1, 8, 28),\n",
       "  'quantity': 6,\n",
       "  'price': Decimal('1.85')},\n",
       " {'_invoice_id': '536367',\n",
       "  'stock_code': '84879',\n",
       "  'description': 'ASSORTED COLOUR BIRD ORNAMENT',\n",
       "  '_quantity': '32',\n",
       "  '_invoice_date': '12/1/10 08:34',\n",
       "  '_price': '1.69',\n",
       "  '_customer_id': '13047',\n",
       "  'country': 'United Kingdom',\n",
       "  'inovice_id': 536365,\n",
       "  'invoice_date': datetime.datetime(2010, 12, 1, 8, 34),\n",
       "  'quantity': 32,\n",
       "  'price': Decimal('1.69')}]"
      ]
     },
     "execution_count": 48,
     "metadata": {},
     "output_type": "execute_result"
    }
   ],
   "source": [
    "products"
   ]
  },
  {
   "cell_type": "code",
   "execution_count": null,
   "metadata": {},
   "outputs": [],
   "source": []
  },
  {
   "cell_type": "markdown",
   "metadata": {},
   "source": [
    "### Calculate the total per product\n",
    "\n",
    "Create a `total` field that contains the result of `price x quantity`:"
   ]
  },
  {
   "cell_type": "code",
   "execution_count": 49,
   "metadata": {},
   "outputs": [
    {
     "data": {
      "text/plain": [
       "{'_invoice_id': '536365',\n",
       " 'stock_code': '85123A',\n",
       " 'description': 'WHITE HANGING HEART T-LIGHT HOLDER',\n",
       " '_quantity': '6',\n",
       " '_invoice_date': '12/1/10 08:26',\n",
       " '_price': '2.55',\n",
       " '_customer_id': '17850',\n",
       " 'country': 'United Kingdom',\n",
       " 'inovice_id': 536365,\n",
       " 'invoice_date': datetime.datetime(2010, 12, 1, 8, 26),\n",
       " 'quantity': 6,\n",
       " 'price': Decimal('2.55')}"
      ]
     },
     "execution_count": 49,
     "metadata": {},
     "output_type": "execute_result"
    }
   ],
   "source": [
    "products[0]"
   ]
  },
  {
   "cell_type": "code",
   "execution_count": 50,
   "metadata": {},
   "outputs": [
    {
     "data": {
      "text/plain": [
       "[None, None, None, None, None, None, None, None, None, None]"
      ]
     },
     "execution_count": 50,
     "metadata": {},
     "output_type": "execute_result"
    }
   ],
   "source": [
    "[p.update({\n",
    "    'total': p['quantity'] * p['price']\n",
    "}) for p in products]"
   ]
  },
  {
   "cell_type": "code",
   "execution_count": 51,
   "metadata": {},
   "outputs": [
    {
     "data": {
      "text/plain": [
       "[{'_invoice_id': '536365',\n",
       "  'stock_code': '85123A',\n",
       "  'description': 'WHITE HANGING HEART T-LIGHT HOLDER',\n",
       "  '_quantity': '6',\n",
       "  '_invoice_date': '12/1/10 08:26',\n",
       "  '_price': '2.55',\n",
       "  '_customer_id': '17850',\n",
       "  'country': 'United Kingdom',\n",
       "  'inovice_id': 536365,\n",
       "  'invoice_date': datetime.datetime(2010, 12, 1, 8, 26),\n",
       "  'quantity': 6,\n",
       "  'price': Decimal('2.55'),\n",
       "  'total': Decimal('15.30')},\n",
       " {'_invoice_id': '536365',\n",
       "  'stock_code': '71053',\n",
       "  'description': 'WHITE METAL LANTERN',\n",
       "  '_quantity': '6',\n",
       "  '_invoice_date': '12/1/10 08:26',\n",
       "  '_price': '3.39',\n",
       "  '_customer_id': '17850',\n",
       "  'country': 'France',\n",
       "  'inovice_id': 536365,\n",
       "  'invoice_date': datetime.datetime(2010, 12, 1, 8, 26),\n",
       "  'quantity': 6,\n",
       "  'price': Decimal('3.39'),\n",
       "  'total': Decimal('20.34')},\n",
       " {'_invoice_id': '536365',\n",
       "  'stock_code': '84406B',\n",
       "  'description': 'CREAM CUPID HEARTS COAT HANGER',\n",
       "  '_quantity': '8',\n",
       "  '_invoice_date': '12/1/10 08:26',\n",
       "  '_price': '2.75',\n",
       "  '_customer_id': '17850',\n",
       "  'country': 'United Kingdom',\n",
       "  'inovice_id': 536365,\n",
       "  'invoice_date': datetime.datetime(2010, 12, 1, 8, 26),\n",
       "  'quantity': 8,\n",
       "  'price': Decimal('2.75'),\n",
       "  'total': Decimal('22.00')},\n",
       " {'_invoice_id': '536365',\n",
       "  'stock_code': '84029G',\n",
       "  'description': 'KNITTED UNION FLAG HOT WATER BOTTLE',\n",
       "  '_quantity': '6',\n",
       "  '_invoice_date': '12/1/10 08:26',\n",
       "  '_price': '3.39',\n",
       "  '_customer_id': '17850',\n",
       "  'country': 'United Kingdom',\n",
       "  'inovice_id': 536365,\n",
       "  'invoice_date': datetime.datetime(2010, 12, 1, 8, 26),\n",
       "  'quantity': 6,\n",
       "  'price': Decimal('3.39'),\n",
       "  'total': Decimal('20.34')},\n",
       " {'_invoice_id': '536365',\n",
       "  'stock_code': '84029E',\n",
       "  'description': 'RED WOOLLY HOTTIE WHITE HEART.',\n",
       "  '_quantity': '6',\n",
       "  '_invoice_date': '12/1/10 08:26',\n",
       "  '_price': '3.39',\n",
       "  '_customer_id': '17850',\n",
       "  'country': 'United Kingdom',\n",
       "  'inovice_id': 536365,\n",
       "  'invoice_date': datetime.datetime(2010, 12, 1, 8, 26),\n",
       "  'quantity': 6,\n",
       "  'price': Decimal('3.39'),\n",
       "  'total': Decimal('20.34')},\n",
       " {'_invoice_id': '536365',\n",
       "  'stock_code': '22752',\n",
       "  'description': 'SET 7 BABUSHKA NESTING BOXES',\n",
       "  '_quantity': '2',\n",
       "  '_invoice_date': '12/1/10 08:26',\n",
       "  '_price': '7.65',\n",
       "  '_customer_id': '17850',\n",
       "  'country': 'United Kingdom',\n",
       "  'inovice_id': 536365,\n",
       "  'invoice_date': datetime.datetime(2010, 12, 1, 8, 26),\n",
       "  'quantity': 2,\n",
       "  'price': Decimal('7.65'),\n",
       "  'total': Decimal('15.30')},\n",
       " {'_invoice_id': '536365',\n",
       "  'stock_code': '21730',\n",
       "  'description': 'GLASS STAR FROSTED T-LIGHT HOLDER',\n",
       "  '_quantity': '6',\n",
       "  '_invoice_date': '12/1/10 08:26',\n",
       "  '_price': '4.25',\n",
       "  '_customer_id': '17850',\n",
       "  'country': 'Germany',\n",
       "  'inovice_id': 536365,\n",
       "  'invoice_date': datetime.datetime(2010, 12, 1, 8, 26),\n",
       "  'quantity': 6,\n",
       "  'price': Decimal('4.25'),\n",
       "  'total': Decimal('25.50')},\n",
       " {'_invoice_id': '536366',\n",
       "  'stock_code': '22633',\n",
       "  'description': 'HAND WARMER UNION JACK',\n",
       "  '_quantity': '6',\n",
       "  '_invoice_date': '12/1/10 08:28',\n",
       "  '_price': '1.85',\n",
       "  '_customer_id': '17850',\n",
       "  'country': 'United Kingdom',\n",
       "  'inovice_id': 536365,\n",
       "  'invoice_date': datetime.datetime(2010, 12, 1, 8, 28),\n",
       "  'quantity': 6,\n",
       "  'price': Decimal('1.85'),\n",
       "  'total': Decimal('11.10')},\n",
       " {'_invoice_id': '536366',\n",
       "  'stock_code': '22632',\n",
       "  'description': 'HAND WARMER RED POLKA DOT',\n",
       "  '_quantity': '6',\n",
       "  '_invoice_date': '12/1/10 08:28',\n",
       "  '_price': '1.85',\n",
       "  '_customer_id': '17850',\n",
       "  'country': 'United Kingdom',\n",
       "  'inovice_id': 536365,\n",
       "  'invoice_date': datetime.datetime(2010, 12, 1, 8, 28),\n",
       "  'quantity': 6,\n",
       "  'price': Decimal('1.85'),\n",
       "  'total': Decimal('11.10')},\n",
       " {'_invoice_id': '536367',\n",
       "  'stock_code': '84879',\n",
       "  'description': 'ASSORTED COLOUR BIRD ORNAMENT',\n",
       "  '_quantity': '32',\n",
       "  '_invoice_date': '12/1/10 08:34',\n",
       "  '_price': '1.69',\n",
       "  '_customer_id': '13047',\n",
       "  'country': 'United Kingdom',\n",
       "  'inovice_id': 536365,\n",
       "  'invoice_date': datetime.datetime(2010, 12, 1, 8, 34),\n",
       "  'quantity': 32,\n",
       "  'price': Decimal('1.69'),\n",
       "  'total': Decimal('54.08')}]"
      ]
     },
     "execution_count": 51,
     "metadata": {},
     "output_type": "execute_result"
    }
   ],
   "source": [
    "products"
   ]
  },
  {
   "cell_type": "code",
   "execution_count": null,
   "metadata": {},
   "outputs": [],
   "source": []
  },
  {
   "cell_type": "markdown",
   "metadata": {},
   "source": [
    "### Totals per Country\n",
    "\n",
    "Remember the different countries we explored? Write a function `total_per_country` that receives a list of products, and a country and returns the total amount spent."
   ]
  },
  {
   "cell_type": "code",
   "execution_count": 52,
   "metadata": {},
   "outputs": [],
   "source": [
    "def total_per_country(products, country):\n",
    "    return sum([p['total'] for p in products if p['country'] == country])"
   ]
  },
  {
   "cell_type": "code",
   "execution_count": null,
   "metadata": {},
   "outputs": [],
   "source": []
  },
  {
   "cell_type": "code",
   "execution_count": null,
   "metadata": {},
   "outputs": [],
   "source": []
  },
  {
   "cell_type": "code",
   "execution_count": 53,
   "metadata": {},
   "outputs": [
    {
     "data": {
      "text/plain": [
       "Decimal('169.56')"
      ]
     },
     "execution_count": 53,
     "metadata": {},
     "output_type": "execute_result"
    }
   ],
   "source": [
    "# Hint: total $169.56\n",
    "total_per_country(products, 'United Kingdom')"
   ]
  },
  {
   "cell_type": "markdown",
   "metadata": {},
   "source": [
    "### Search by...\n",
    "\n",
    "Implement a function `search_by` that receives the products list + a number of dynamic params:\n",
    "\n",
    "* `date_lt`: The product's `invoice_date` must be \"lower than\" the passed date. All product with invoice date earlier than the one specified.\n",
    "* `country`: Products from the given country.\n",
    "* `stock_code_char`: Product's `stock_code` ends with the given char (example, `'85123A'`)"
   ]
  },
  {
   "cell_type": "code",
   "execution_count": 54,
   "metadata": {},
   "outputs": [],
   "source": [
    "def search_by(products, date_lt=None, country=None, stock_code_char=None):\n",
    "    def passes_test(p):\n",
    "        if date_lt and p['invoice_date'] >= date_lt:\n",
    "            return False\n",
    "        if country and p['country'] != country:\n",
    "            return False\n",
    "        if stock_code_char and not p['stock_code'].endswith(stock_code_char):\n",
    "            return False\n",
    "        return True\n",
    "    \n",
    "    return [p for p in products if passes_test(p)]"
   ]
  },
  {
   "cell_type": "code",
   "execution_count": null,
   "metadata": {},
   "outputs": [],
   "source": []
  },
  {
   "cell_type": "code",
   "execution_count": null,
   "metadata": {},
   "outputs": [],
   "source": []
  },
  {
   "cell_type": "code",
   "execution_count": null,
   "metadata": {},
   "outputs": [],
   "source": []
  },
  {
   "cell_type": "markdown",
   "metadata": {},
   "source": [
    "A few example usages:"
   ]
  },
  {
   "cell_type": "code",
   "execution_count": 55,
   "metadata": {
    "scrolled": false
   },
   "outputs": [
    {
     "data": {
      "text/plain": [
       "[{'_invoice_id': '536365',\n",
       "  'stock_code': '85123A',\n",
       "  'description': 'WHITE HANGING HEART T-LIGHT HOLDER',\n",
       "  '_quantity': '6',\n",
       "  '_invoice_date': '12/1/10 08:26',\n",
       "  '_price': '2.55',\n",
       "  '_customer_id': '17850',\n",
       "  'country': 'United Kingdom',\n",
       "  'inovice_id': 536365,\n",
       "  'invoice_date': datetime.datetime(2010, 12, 1, 8, 26),\n",
       "  'quantity': 6,\n",
       "  'price': Decimal('2.55'),\n",
       "  'total': Decimal('15.30')},\n",
       " {'_invoice_id': '536365',\n",
       "  'stock_code': '71053',\n",
       "  'description': 'WHITE METAL LANTERN',\n",
       "  '_quantity': '6',\n",
       "  '_invoice_date': '12/1/10 08:26',\n",
       "  '_price': '3.39',\n",
       "  '_customer_id': '17850',\n",
       "  'country': 'France',\n",
       "  'inovice_id': 536365,\n",
       "  'invoice_date': datetime.datetime(2010, 12, 1, 8, 26),\n",
       "  'quantity': 6,\n",
       "  'price': Decimal('3.39'),\n",
       "  'total': Decimal('20.34')},\n",
       " {'_invoice_id': '536365',\n",
       "  'stock_code': '84406B',\n",
       "  'description': 'CREAM CUPID HEARTS COAT HANGER',\n",
       "  '_quantity': '8',\n",
       "  '_invoice_date': '12/1/10 08:26',\n",
       "  '_price': '2.75',\n",
       "  '_customer_id': '17850',\n",
       "  'country': 'United Kingdom',\n",
       "  'inovice_id': 536365,\n",
       "  'invoice_date': datetime.datetime(2010, 12, 1, 8, 26),\n",
       "  'quantity': 8,\n",
       "  'price': Decimal('2.75'),\n",
       "  'total': Decimal('22.00')},\n",
       " {'_invoice_id': '536365',\n",
       "  'stock_code': '84029G',\n",
       "  'description': 'KNITTED UNION FLAG HOT WATER BOTTLE',\n",
       "  '_quantity': '6',\n",
       "  '_invoice_date': '12/1/10 08:26',\n",
       "  '_price': '3.39',\n",
       "  '_customer_id': '17850',\n",
       "  'country': 'United Kingdom',\n",
       "  'inovice_id': 536365,\n",
       "  'invoice_date': datetime.datetime(2010, 12, 1, 8, 26),\n",
       "  'quantity': 6,\n",
       "  'price': Decimal('3.39'),\n",
       "  'total': Decimal('20.34')},\n",
       " {'_invoice_id': '536365',\n",
       "  'stock_code': '84029E',\n",
       "  'description': 'RED WOOLLY HOTTIE WHITE HEART.',\n",
       "  '_quantity': '6',\n",
       "  '_invoice_date': '12/1/10 08:26',\n",
       "  '_price': '3.39',\n",
       "  '_customer_id': '17850',\n",
       "  'country': 'United Kingdom',\n",
       "  'inovice_id': 536365,\n",
       "  'invoice_date': datetime.datetime(2010, 12, 1, 8, 26),\n",
       "  'quantity': 6,\n",
       "  'price': Decimal('3.39'),\n",
       "  'total': Decimal('20.34')},\n",
       " {'_invoice_id': '536365',\n",
       "  'stock_code': '22752',\n",
       "  'description': 'SET 7 BABUSHKA NESTING BOXES',\n",
       "  '_quantity': '2',\n",
       "  '_invoice_date': '12/1/10 08:26',\n",
       "  '_price': '7.65',\n",
       "  '_customer_id': '17850',\n",
       "  'country': 'United Kingdom',\n",
       "  'inovice_id': 536365,\n",
       "  'invoice_date': datetime.datetime(2010, 12, 1, 8, 26),\n",
       "  'quantity': 2,\n",
       "  'price': Decimal('7.65'),\n",
       "  'total': Decimal('15.30')},\n",
       " {'_invoice_id': '536365',\n",
       "  'stock_code': '21730',\n",
       "  'description': 'GLASS STAR FROSTED T-LIGHT HOLDER',\n",
       "  '_quantity': '6',\n",
       "  '_invoice_date': '12/1/10 08:26',\n",
       "  '_price': '4.25',\n",
       "  '_customer_id': '17850',\n",
       "  'country': 'Germany',\n",
       "  'inovice_id': 536365,\n",
       "  'invoice_date': datetime.datetime(2010, 12, 1, 8, 26),\n",
       "  'quantity': 6,\n",
       "  'price': Decimal('4.25'),\n",
       "  'total': Decimal('25.50')}]"
      ]
     },
     "execution_count": 55,
     "metadata": {},
     "output_type": "execute_result"
    }
   ],
   "source": [
    "search_by(products, date_lt=datetime(2010, 12, 1, 8, 28))"
   ]
  },
  {
   "cell_type": "code",
   "execution_count": 56,
   "metadata": {
    "scrolled": false
   },
   "outputs": [
    {
     "data": {
      "text/plain": [
       "[{'_invoice_id': '536365',\n",
       "  'stock_code': '85123A',\n",
       "  'description': 'WHITE HANGING HEART T-LIGHT HOLDER',\n",
       "  '_quantity': '6',\n",
       "  '_invoice_date': '12/1/10 08:26',\n",
       "  '_price': '2.55',\n",
       "  '_customer_id': '17850',\n",
       "  'country': 'United Kingdom',\n",
       "  'inovice_id': 536365,\n",
       "  'invoice_date': datetime.datetime(2010, 12, 1, 8, 26),\n",
       "  'quantity': 6,\n",
       "  'price': Decimal('2.55'),\n",
       "  'total': Decimal('15.30')},\n",
       " {'_invoice_id': '536365',\n",
       "  'stock_code': '84406B',\n",
       "  'description': 'CREAM CUPID HEARTS COAT HANGER',\n",
       "  '_quantity': '8',\n",
       "  '_invoice_date': '12/1/10 08:26',\n",
       "  '_price': '2.75',\n",
       "  '_customer_id': '17850',\n",
       "  'country': 'United Kingdom',\n",
       "  'inovice_id': 536365,\n",
       "  'invoice_date': datetime.datetime(2010, 12, 1, 8, 26),\n",
       "  'quantity': 8,\n",
       "  'price': Decimal('2.75'),\n",
       "  'total': Decimal('22.00')},\n",
       " {'_invoice_id': '536365',\n",
       "  'stock_code': '84029G',\n",
       "  'description': 'KNITTED UNION FLAG HOT WATER BOTTLE',\n",
       "  '_quantity': '6',\n",
       "  '_invoice_date': '12/1/10 08:26',\n",
       "  '_price': '3.39',\n",
       "  '_customer_id': '17850',\n",
       "  'country': 'United Kingdom',\n",
       "  'inovice_id': 536365,\n",
       "  'invoice_date': datetime.datetime(2010, 12, 1, 8, 26),\n",
       "  'quantity': 6,\n",
       "  'price': Decimal('3.39'),\n",
       "  'total': Decimal('20.34')},\n",
       " {'_invoice_id': '536365',\n",
       "  'stock_code': '84029E',\n",
       "  'description': 'RED WOOLLY HOTTIE WHITE HEART.',\n",
       "  '_quantity': '6',\n",
       "  '_invoice_date': '12/1/10 08:26',\n",
       "  '_price': '3.39',\n",
       "  '_customer_id': '17850',\n",
       "  'country': 'United Kingdom',\n",
       "  'inovice_id': 536365,\n",
       "  'invoice_date': datetime.datetime(2010, 12, 1, 8, 26),\n",
       "  'quantity': 6,\n",
       "  'price': Decimal('3.39'),\n",
       "  'total': Decimal('20.34')},\n",
       " {'_invoice_id': '536365',\n",
       "  'stock_code': '22752',\n",
       "  'description': 'SET 7 BABUSHKA NESTING BOXES',\n",
       "  '_quantity': '2',\n",
       "  '_invoice_date': '12/1/10 08:26',\n",
       "  '_price': '7.65',\n",
       "  '_customer_id': '17850',\n",
       "  'country': 'United Kingdom',\n",
       "  'inovice_id': 536365,\n",
       "  'invoice_date': datetime.datetime(2010, 12, 1, 8, 26),\n",
       "  'quantity': 2,\n",
       "  'price': Decimal('7.65'),\n",
       "  'total': Decimal('15.30')},\n",
       " {'_invoice_id': '536366',\n",
       "  'stock_code': '22633',\n",
       "  'description': 'HAND WARMER UNION JACK',\n",
       "  '_quantity': '6',\n",
       "  '_invoice_date': '12/1/10 08:28',\n",
       "  '_price': '1.85',\n",
       "  '_customer_id': '17850',\n",
       "  'country': 'United Kingdom',\n",
       "  'inovice_id': 536365,\n",
       "  'invoice_date': datetime.datetime(2010, 12, 1, 8, 28),\n",
       "  'quantity': 6,\n",
       "  'price': Decimal('1.85'),\n",
       "  'total': Decimal('11.10')},\n",
       " {'_invoice_id': '536366',\n",
       "  'stock_code': '22632',\n",
       "  'description': 'HAND WARMER RED POLKA DOT',\n",
       "  '_quantity': '6',\n",
       "  '_invoice_date': '12/1/10 08:28',\n",
       "  '_price': '1.85',\n",
       "  '_customer_id': '17850',\n",
       "  'country': 'United Kingdom',\n",
       "  'inovice_id': 536365,\n",
       "  'invoice_date': datetime.datetime(2010, 12, 1, 8, 28),\n",
       "  'quantity': 6,\n",
       "  'price': Decimal('1.85'),\n",
       "  'total': Decimal('11.10')},\n",
       " {'_invoice_id': '536367',\n",
       "  'stock_code': '84879',\n",
       "  'description': 'ASSORTED COLOUR BIRD ORNAMENT',\n",
       "  '_quantity': '32',\n",
       "  '_invoice_date': '12/1/10 08:34',\n",
       "  '_price': '1.69',\n",
       "  '_customer_id': '13047',\n",
       "  'country': 'United Kingdom',\n",
       "  'inovice_id': 536365,\n",
       "  'invoice_date': datetime.datetime(2010, 12, 1, 8, 34),\n",
       "  'quantity': 32,\n",
       "  'price': Decimal('1.69'),\n",
       "  'total': Decimal('54.08')}]"
      ]
     },
     "execution_count": 56,
     "metadata": {},
     "output_type": "execute_result"
    }
   ],
   "source": [
    "search_by(products, country='United Kingdom')"
   ]
  },
  {
   "cell_type": "code",
   "execution_count": 57,
   "metadata": {
    "scrolled": false
   },
   "outputs": [
    {
     "data": {
      "text/plain": [
       "[{'_invoice_id': '536365',\n",
       "  'stock_code': '85123A',\n",
       "  'description': 'WHITE HANGING HEART T-LIGHT HOLDER',\n",
       "  '_quantity': '6',\n",
       "  '_invoice_date': '12/1/10 08:26',\n",
       "  '_price': '2.55',\n",
       "  '_customer_id': '17850',\n",
       "  'country': 'United Kingdom',\n",
       "  'inovice_id': 536365,\n",
       "  'invoice_date': datetime.datetime(2010, 12, 1, 8, 26),\n",
       "  'quantity': 6,\n",
       "  'price': Decimal('2.55'),\n",
       "  'total': Decimal('15.30')},\n",
       " {'_invoice_id': '536365',\n",
       "  'stock_code': '84406B',\n",
       "  'description': 'CREAM CUPID HEARTS COAT HANGER',\n",
       "  '_quantity': '8',\n",
       "  '_invoice_date': '12/1/10 08:26',\n",
       "  '_price': '2.75',\n",
       "  '_customer_id': '17850',\n",
       "  'country': 'United Kingdom',\n",
       "  'inovice_id': 536365,\n",
       "  'invoice_date': datetime.datetime(2010, 12, 1, 8, 26),\n",
       "  'quantity': 8,\n",
       "  'price': Decimal('2.75'),\n",
       "  'total': Decimal('22.00')},\n",
       " {'_invoice_id': '536365',\n",
       "  'stock_code': '84029G',\n",
       "  'description': 'KNITTED UNION FLAG HOT WATER BOTTLE',\n",
       "  '_quantity': '6',\n",
       "  '_invoice_date': '12/1/10 08:26',\n",
       "  '_price': '3.39',\n",
       "  '_customer_id': '17850',\n",
       "  'country': 'United Kingdom',\n",
       "  'inovice_id': 536365,\n",
       "  'invoice_date': datetime.datetime(2010, 12, 1, 8, 26),\n",
       "  'quantity': 6,\n",
       "  'price': Decimal('3.39'),\n",
       "  'total': Decimal('20.34')},\n",
       " {'_invoice_id': '536365',\n",
       "  'stock_code': '84029E',\n",
       "  'description': 'RED WOOLLY HOTTIE WHITE HEART.',\n",
       "  '_quantity': '6',\n",
       "  '_invoice_date': '12/1/10 08:26',\n",
       "  '_price': '3.39',\n",
       "  '_customer_id': '17850',\n",
       "  'country': 'United Kingdom',\n",
       "  'inovice_id': 536365,\n",
       "  'invoice_date': datetime.datetime(2010, 12, 1, 8, 26),\n",
       "  'quantity': 6,\n",
       "  'price': Decimal('3.39'),\n",
       "  'total': Decimal('20.34')},\n",
       " {'_invoice_id': '536365',\n",
       "  'stock_code': '22752',\n",
       "  'description': 'SET 7 BABUSHKA NESTING BOXES',\n",
       "  '_quantity': '2',\n",
       "  '_invoice_date': '12/1/10 08:26',\n",
       "  '_price': '7.65',\n",
       "  '_customer_id': '17850',\n",
       "  'country': 'United Kingdom',\n",
       "  'inovice_id': 536365,\n",
       "  'invoice_date': datetime.datetime(2010, 12, 1, 8, 26),\n",
       "  'quantity': 2,\n",
       "  'price': Decimal('7.65'),\n",
       "  'total': Decimal('15.30')}]"
      ]
     },
     "execution_count": 57,
     "metadata": {},
     "output_type": "execute_result"
    }
   ],
   "source": [
    "search_by(products, date_lt=datetime(2010, 12, 1, 8, 28), country='United Kingdom')"
   ]
  },
  {
   "cell_type": "code",
   "execution_count": 58,
   "metadata": {
    "scrolled": true
   },
   "outputs": [
    {
     "data": {
      "text/plain": [
       "[{'_invoice_id': '536365',\n",
       "  'stock_code': '85123A',\n",
       "  'description': 'WHITE HANGING HEART T-LIGHT HOLDER',\n",
       "  '_quantity': '6',\n",
       "  '_invoice_date': '12/1/10 08:26',\n",
       "  '_price': '2.55',\n",
       "  '_customer_id': '17850',\n",
       "  'country': 'United Kingdom',\n",
       "  'inovice_id': 536365,\n",
       "  'invoice_date': datetime.datetime(2010, 12, 1, 8, 26),\n",
       "  'quantity': 6,\n",
       "  'price': Decimal('2.55'),\n",
       "  'total': Decimal('15.30')}]"
      ]
     },
     "execution_count": 58,
     "metadata": {},
     "output_type": "execute_result"
    }
   ],
   "source": [
    "search_by(products, date_lt=datetime(2010, 12, 1, 8, 28), country='United Kingdom', stock_code_char='A')"
   ]
  },
  {
   "cell_type": "code",
   "execution_count": null,
   "metadata": {},
   "outputs": [],
   "source": []
  }
 ],
 "metadata": {
  "kernelspec": {
   "display_name": "Python 3",
   "language": "python",
   "name": "python3"
  },
  "language_info": {
   "codemirror_mode": {
    "name": "ipython",
    "version": 3
   },
   "file_extension": ".py",
   "mimetype": "text/x-python",
   "name": "python",
   "nbconvert_exporter": "python",
   "pygments_lexer": "ipython3",
   "version": "3.6.8"
  }
 },
 "nbformat": 4,
 "nbformat_minor": 2
}
